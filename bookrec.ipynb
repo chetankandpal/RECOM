{
 "cells": [
  {
   "cell_type": "code",
   "execution_count": null,
   "metadata": {},
   "outputs": [],
   "source": [
    "import pandas as pd\n",
    "import numpy as np\n",
    "import seaborn as sns\n",
    "import sklearn.metrics as metrics\n",
    "from sklearn.neighbors import NearestNeighbors\n",
    "from scipy.spatial.distance import correlation\n",
    "from sklearn.metrics.pairwise import pairwise_distances\n",
    "import warnings\n",
    "warnings.filterwarnings('ignore')\n",
    "import os,sys\n",
    "import re"
   ]
  },
  {
   "cell_type": "code",
   "execution_count": null,
   "metadata": {
    "scrolled": false
   },
   "outputs": [],
   "source": [
    "books=pd.read_csv('Books.csv',sep=';',error_bad_lines=False,encoding=\"ANSI\")\n",
    "books.columns=['ISBN','bookTitle','bookAuthor','yearOfPublication','publisher','imageUrlS','imageUrlM','imageUrlL']\n",
    "users=pd.read_csv('users.csv',sep=';',error_bad_lines=False,encoding=\"ANSI\")\n",
    "users.columns=['userID','Location','Age']\n",
    "ratings=pd.read_csv('Book-Ratings.csv',sep=';',error_bad_lines=False,encoding=\"ANSI\")\n",
    "ratings.columns=['userID','ISBN','bookRating']\n"
   ]
  },
  {
   "cell_type": "code",
   "execution_count": null,
   "metadata": {},
   "outputs": [],
   "source": [
    "books.shape"
   ]
  },
  {
   "cell_type": "code",
   "execution_count": null,
   "metadata": {},
   "outputs": [],
   "source": [
    "users.shape"
   ]
  },
  {
   "cell_type": "code",
   "execution_count": null,
   "metadata": {},
   "outputs": [],
   "source": [
    "ratings.shape"
   ]
  },
  {
   "cell_type": "code",
   "execution_count": null,
   "metadata": {
    "scrolled": true
   },
   "outputs": [],
   "source": [
    "books.head()"
   ]
  },
  {
   "cell_type": "code",
   "execution_count": null,
   "metadata": {},
   "outputs": [],
   "source": [
    "books.drop(['imageUrlS','imageUrlM','imageUrlL'],axis=1,inplace=True)"
   ]
  },
  {
   "cell_type": "code",
   "execution_count": null,
   "metadata": {},
   "outputs": [],
   "source": [
    "books.head()"
   ]
  },
  {
   "cell_type": "code",
   "execution_count": null,
   "metadata": {},
   "outputs": [],
   "source": [
    "books.dtypes"
   ]
  },
  {
   "cell_type": "code",
   "execution_count": null,
   "metadata": {
    "scrolled": true
   },
   "outputs": [],
   "source": [
    "pd.set_option('display.max_colwidth',-1)"
   ]
  },
  {
   "cell_type": "code",
   "execution_count": null,
   "metadata": {},
   "outputs": [],
   "source": [
    "books.yearOfPublication.unique()"
   ]
  },
  {
   "cell_type": "code",
   "execution_count": null,
   "metadata": {},
   "outputs": [],
   "source": [
    "books.loc[books.yearOfPublication =='DK Publishing Inc',:]"
   ]
  },
  {
   "cell_type": "code",
   "execution_count": null,
   "metadata": {},
   "outputs": [],
   "source": [
    "books.loc[books.ISBN=='078946697X','yearOfPublication']=2000\n",
    "books.loc[books.ISBN=='078946697X','bookAuthor']=\"Michael Teitelbaum\"\n",
    "books.loc[books.ISBN=='078946697X','bookTitle']=\"DK Readers: Creating the X-Men, How It All Began\"\n",
    "books.loc[books.ISBN=='078946697X','publisher']=\"DK Publishing Inc\"\n",
    "\n",
    "books.loc[books.ISBN=='0789466953','yearOfPublication']=2000\n",
    "books.loc[books.ISBN=='0789466953','bookAuthor']=\"James Buckley\"\n",
    "books.loc[books.ISBN=='0789466953','bookTitle']=\"DK Readers: Creating the X-Men, How Comic Books Come to Life\"\n",
    "books.loc[books.ISBN=='0789466953','publisher']=\"DK Publishing Inc\""
   ]
  },
  {
   "cell_type": "code",
   "execution_count": null,
   "metadata": {},
   "outputs": [],
   "source": [
    "books.loc[books.yearOfPublication =='Gallimard',:]"
   ]
  },
  {
   "cell_type": "code",
   "execution_count": null,
   "metadata": {},
   "outputs": [],
   "source": [
    "books.loc[books.ISBN=='2070426769','yearOfPublication']=2003\n",
    "books.loc[books.ISBN=='2070426769','bookAuthor']=\"Jean-Marie Gustave Le ClÃ?Â©zio\"\n",
    "books.loc[books.ISBN=='2070426769','bookTitle']=\"Peuple du ciel, suivi de 'Les Bergers\"\n",
    "books.loc[books.ISBN=='2070426769','publisher']=\"Gallimard\"\n"
   ]
  },
  {
   "cell_type": "code",
   "execution_count": null,
   "metadata": {},
   "outputs": [],
   "source": [
    "books.yearOfPublication=pd.to_numeric(books.yearOfPublication,errors='coerce')"
   ]
  },
  {
   "cell_type": "code",
   "execution_count": null,
   "metadata": {
    "scrolled": true
   },
   "outputs": [],
   "source": [
    "sorted(books['yearOfPublication'].unique())"
   ]
  },
  {
   "cell_type": "code",
   "execution_count": null,
   "metadata": {},
   "outputs": [],
   "source": [
    "books.loc[(books.yearOfPublication>2006)|(books.yearOfPublication==0),'yearOfPublication']=np.NaN"
   ]
  },
  {
   "cell_type": "code",
   "execution_count": null,
   "metadata": {},
   "outputs": [],
   "source": [
    "books.yearOfPublication.fillna(round(books.yearOfPublication.mean()),inplace=True)"
   ]
  },
  {
   "cell_type": "code",
   "execution_count": null,
   "metadata": {
    "scrolled": true
   },
   "outputs": [],
   "source": [
    "books.loc[(books.bookAuthor=='J. K. Rowling')&(books.yearOfPublication==1999),:]"
   ]
  },
  {
   "cell_type": "code",
   "execution_count": null,
   "metadata": {},
   "outputs": [],
   "source": [
    "books.yearOfPublication=books.yearOfPublication.astype(np.int32)"
   ]
  },
  {
   "cell_type": "code",
   "execution_count": null,
   "metadata": {},
   "outputs": [],
   "source": [
    "books.loc[books.publisher.isnull(),:]"
   ]
  },
  {
   "cell_type": "code",
   "execution_count": null,
   "metadata": {},
   "outputs": [],
   "source": [
    "books.loc[(books.ISBN =='193169656X'),'publisher']='other'\n",
    "books.loc[(books.ISBN == '1931696993'),'publisher']='other'"
   ]
  },
  {
   "cell_type": "code",
   "execution_count": null,
   "metadata": {},
   "outputs": [],
   "source": [
    "books.loc[books.publisher.isnull(),:]"
   ]
  },
  {
   "cell_type": "code",
   "execution_count": null,
   "metadata": {},
   "outputs": [],
   "source": [
    "users.shape"
   ]
  },
  {
   "cell_type": "code",
   "execution_count": null,
   "metadata": {},
   "outputs": [],
   "source": [
    "users.Age.fillna(round(users.Age.mean()),inplace=True)\n",
    "users.dtypes"
   ]
  },
  {
   "cell_type": "code",
   "execution_count": null,
   "metadata": {
    "scrolled": false
   },
   "outputs": [],
   "source": [
    "users.head()"
   ]
  },
  {
   "cell_type": "code",
   "execution_count": null,
   "metadata": {},
   "outputs": [],
   "source": [
    "users.userID.values"
   ]
  },
  {
   "cell_type": "code",
   "execution_count": null,
   "metadata": {},
   "outputs": [],
   "source": [
    "sorted(users.Age.unique())"
   ]
  },
  {
   "cell_type": "code",
   "execution_count": null,
   "metadata": {},
   "outputs": [],
   "source": [
    "users.loc[(users.Age>90) |(users.Age<5),'Age']=np.nan\n",
    "users.Age=users.Age.fillna(users.Age.mean())\n",
    "users.Age=users.Age.astype(np.int32)"
   ]
  },
  {
   "cell_type": "code",
   "execution_count": null,
   "metadata": {
    "scrolled": true
   },
   "outputs": [],
   "source": [
    "sorted(users.Age.unique())"
   ]
  },
  {
   "cell_type": "code",
   "execution_count": null,
   "metadata": {},
   "outputs": [],
   "source": [
    "ratings.shape"
   ]
  },
  {
   "cell_type": "code",
   "execution_count": null,
   "metadata": {},
   "outputs": [],
   "source": [
    "n_users=users.shape[0]\n",
    "n_books=books.shape[0]\n",
    "n_users*n_books"
   ]
  },
  {
   "cell_type": "code",
   "execution_count": null,
   "metadata": {},
   "outputs": [],
   "source": [
    "ratings.head(5)"
   ]
  },
  {
   "cell_type": "code",
   "execution_count": null,
   "metadata": {},
   "outputs": [],
   "source": [
    "ratings_new=ratings[ratings.ISBN.isin(books.ISBN)]\n",
    "ratings_new=ratings_new[ratings_new.userID.isin(users.userID)]"
   ]
  },
  {
   "cell_type": "code",
   "execution_count": null,
   "metadata": {},
   "outputs": [],
   "source": [
    "ratings.shape"
   ]
  },
  {
   "cell_type": "code",
   "execution_count": null,
   "metadata": {},
   "outputs": [],
   "source": [
    "ratings_new.shape"
   ]
  },
  {
   "cell_type": "code",
   "execution_count": null,
   "metadata": {},
   "outputs": [],
   "source": [
    "sparisty=1.0-len(ratings_new)/float(n_users*n_books)"
   ]
  },
  {
   "cell_type": "code",
   "execution_count": null,
   "metadata": {},
   "outputs": [],
   "source": [
    "sparisty"
   ]
  },
  {
   "cell_type": "code",
   "execution_count": null,
   "metadata": {},
   "outputs": [],
   "source": [
    "ratings.bookRating.unique()"
   ]
  },
  {
   "cell_type": "code",
   "execution_count": null,
   "metadata": {},
   "outputs": [],
   "source": [
    "ratings_explicit=ratings_new[ratings_new.bookRating !=0]\n",
    "ratings_implicit=ratings_new[ratings_new.bookRating==0]"
   ]
  },
  {
   "cell_type": "code",
   "execution_count": null,
   "metadata": {
    "scrolled": true
   },
   "outputs": [],
   "source": [
    "ratings_explicit"
   ]
  },
  {
   "cell_type": "code",
   "execution_count": null,
   "metadata": {
    "scrolled": true
   },
   "outputs": [],
   "source": [
    "ratings_implicit"
   ]
  },
  {
   "cell_type": "code",
   "execution_count": null,
   "metadata": {},
   "outputs": [],
   "source": [
    "users_exp_ratings=users[users.userID.isin(ratings_explicit.userID)]\n",
    "users_imp_ratings=users[users.userID.isin(ratings_implicit.userID)]"
   ]
  },
  {
   "cell_type": "code",
   "execution_count": null,
   "metadata": {},
   "outputs": [],
   "source": [
    "sns.countplot(data=ratings_explicit,x='bookRating')"
   ]
  },
  {
   "cell_type": "code",
   "execution_count": null,
   "metadata": {
    "scrolled": false
   },
   "outputs": [],
   "source": [
    "ratings_count=pd.DataFrame(ratings_explicit.groupby(['ISBN'])['bookRating'].sum())\n",
    "top10=ratings_count.sort_values('bookRating',ascending=False).head(20)\n",
    "print(\"Following books are recommended\")\n",
    "pd.merge(top10,books,on='ISBN',how='inner')"
   ]
  },
  {
   "cell_type": "code",
   "execution_count": null,
   "metadata": {},
   "outputs": [],
   "source": [
    "ratings_explicit.dtypes"
   ]
  },
  {
   "cell_type": "code",
   "execution_count": null,
   "metadata": {},
   "outputs": [],
   "source": [
    "counts=pd.DataFrame(ratings_explicit.groupby(['ISBN'])['bookRating'].count())\n",
    "ratings_explicit=ratings_explicit[ratings_explicit['ISBN'].isin(counts[counts.bookRating>=80].index)]"
   ]
  },
  {
   "cell_type": "code",
   "execution_count": null,
   "metadata": {
    "scrolled": false
   },
   "outputs": [],
   "source": [
    "#counts1=ratings_explicit['userID'].value_counts()\n",
    "#ratings_explicit=ratings_explicit[ratings_explicit['userID'].isin(counts1[counts1>=100].index)]"
   ]
  },
  {
   "cell_type": "code",
   "execution_count": null,
   "metadata": {
    "scrolled": true
   },
   "outputs": [],
   "source": [
    "ratings_explicit"
   ]
  },
  {
   "cell_type": "code",
   "execution_count": null,
   "metadata": {
    "scrolled": true
   },
   "outputs": [],
   "source": [
    "ratings_matrix=ratings_explicit.pivot(index='userID',columns='ISBN',values='bookRating')\n",
    "userID=ratings_matrix.index\n",
    "ISBN=ratings_matrix.columns\n",
    "ratings_matrix"
   ]
  },
  {
   "cell_type": "code",
   "execution_count": null,
   "metadata": {
    "scrolled": true
   },
   "outputs": [],
   "source": [
    "books.sort_values(by=['ISBN'],inplace=True)\n",
    "books.reset_index(inplace=True)\n",
    "books"
   ]
  },
  {
   "cell_type": "code",
   "execution_count": null,
   "metadata": {},
   "outputs": [],
   "source": [
    "ratings_matrix.fillna(0,inplace=True)"
   ]
  },
  {
   "cell_type": "code",
   "execution_count": null,
   "metadata": {},
   "outputs": [],
   "source": [
    "ratings_matrix"
   ]
  },
  {
   "cell_type": "code",
   "execution_count": null,
   "metadata": {},
   "outputs": [],
   "source": [
    "global metric,k\n",
    "k=10\n",
    "metric='cosine'"
   ]
  },
  {
   "cell_type": "code",
   "execution_count": null,
   "metadata": {},
   "outputs": [],
   "source": [
    "def findksimilaritems(item_id, ratings, metric=metric, k=k):\n",
    "    similarities=[]\n",
    "    indices=[]\n",
    "    ratings=ratings.T\n",
    "    loc = ratings.index.get_loc(item_id)\n",
    "    \n",
    "    if ratings.shape[0]<10:\n",
    "        k=ratings.shape[0]\n",
    "    \n",
    "    \n",
    "    model_knn = NearestNeighbors(metric = metric, algorithm = 'brute')\n",
    "    model_knn.fit(ratings)\n",
    "    distances, indices = model_knn.kneighbors(ratings.iloc[loc, :].values.reshape(1, -1), n_neighbors = k)\n",
    "    similarities =1-distances.flatten()\n",
    "\n",
    "    return similarities,indices"
   ]
  },
  {
   "cell_type": "code",
   "execution_count": null,
   "metadata": {},
   "outputs": [],
   "source": [
    "#This function predicts the rating for specified user-item combination based on item-based approach\n",
    "def predict_itembased(user_id, item_id, ratings, metric = metric, k=k):\n",
    "    prediction= wtd_sum =0\n",
    "    ratings_new=ratings.copy();\n",
    "    IS=[]\n",
    "    for i in range(ratings_new.shape[1]):\n",
    "        if (ratings_new[ratings_new.columns[i]][user_id] ==0):\n",
    "            if (item_id ==ratings_new.columns[i]):\n",
    "                continue;\n",
    "            else:    \n",
    "                IS.append(ratings_new.columns[i])\n",
    "    ratings_new.drop(IS,axis=1,inplace=True)\n",
    "    \n",
    "    user_loc = ratings_new.index.get_loc(user_id)   \n",
    "    \n",
    "   \n",
    "    similarities, indices=findksimilaritems(item_id, ratings_new) #similar items based on correlation coefficients\n",
    "    sum_wt = np.sum(similarities)-1\n",
    "    product=1\n",
    "    for i in range(1, len(indices.flatten())):\n",
    "            product = ratings_new.iloc[user_loc,indices.flatten()[i]] * (similarities[i])\n",
    "            wtd_sum = wtd_sum + product  \n",
    "    if(sum_wt==0):\n",
    "        prediction=0 \n",
    "    else:    \n",
    "        prediction = int(round(wtd_sum/sum_wt))\n",
    "    \n",
    "    if prediction <= 0:\n",
    "        prediction = 1   \n",
    "    elif prediction >10:\n",
    "        prediction = 10   \n",
    "    \n",
    "    return prediction"
   ]
  },
  {
   "cell_type": "code",
   "execution_count": null,
   "metadata": {},
   "outputs": [],
   "source": [
    "def recommendItem(user_id, ratings, metric=metric):\n",
    "    \n",
    "    if (user_id not in ratings.index.values) or type(user_id) is not int:\n",
    "         print(\"User id should be a valid integer from this list :\\n\\n {} \".format(re.sub('[\\[\\]]', '', np.array_str(ratings_matrix.index.values))))\n",
    "    else:  \n",
    "        prediction=[]\n",
    "        for i in range(ratings.shape[1]): \n",
    "            if (ratings[str(ratings.columns[i])][user_id] ==0.0): #not rated already\n",
    "                prediction.append(predict_itembased(user_id, str(ratings.columns[i]) ,ratings, metric))\n",
    "            else:                    \n",
    "                prediction.append(-1) #for already rated items           \n",
    "        prediction = pd.Series(prediction)\n",
    "        prediction = prediction.sort_values(ascending=False)\n",
    "        recommended = prediction[:10]\n",
    "   \n",
    "        print(\"Following books are recommended...\")\n",
    "        for i in range(len(recommended)):\n",
    "            print(\"{0}. {1}\".format(i+1,books.bookTitle[recommended.index[i]]))                        "
   ]
  }
 ],
 "metadata": {
  "celltoolbar": "Raw Cell Format",
  "kernelspec": {
   "display_name": "Python 3",
   "language": "python",
   "name": "python3"
  },
  "language_info": {
   "codemirror_mode": {
    "name": "ipython",
    "version": 3
   },
   "file_extension": ".py",
   "mimetype": "text/x-python",
   "name": "python",
   "nbconvert_exporter": "python",
   "pygments_lexer": "ipython3",
   "version": "3.8.2"
  }
 },
 "nbformat": 4,
 "nbformat_minor": 4
}
